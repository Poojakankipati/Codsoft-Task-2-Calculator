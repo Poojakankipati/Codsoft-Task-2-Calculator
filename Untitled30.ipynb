{
 "cells": [
  {
   "cell_type": "code",
   "execution_count": 1,
   "id": "9c78c491-93d3-4e33-b53f-3aea2fd9d47e",
   "metadata": {},
   "outputs": [
    {
     "name": "stdout",
     "output_type": "stream",
     "text": [
      "Simple Calculator\n",
      "Enter two numbers and an operation (add, subtract, multiply, divide):\n"
     ]
    },
    {
     "name": "stdin",
     "output_type": "stream",
     "text": [
      "Enter the first number:  19\n",
      "Enter the second number:  22\n",
      "Enter the operation (add, subtract, multiply, divide):  add\n"
     ]
    },
    {
     "name": "stdout",
     "output_type": "stream",
     "text": [
      "The result of adding 19.0 and 22.0 is 41.0.\n"
     ]
    }
   ],
   "source": [
    "def calculator():\n",
    "    print(\"Simple Calculator\")\n",
    "    print(\"Enter two numbers and an operation (add, subtract, multiply, divide):\")\n",
    "\n",
    "    # Prompt the user to input the first number\n",
    "    try:\n",
    "        num1 = float(input(\"Enter the first number: \"))\n",
    "    except ValueError:\n",
    "        print(\"Invalid input. Please enter a valid number.\")\n",
    "        return\n",
    "\n",
    "    # Prompt the user to input the second number\n",
    "    try:\n",
    "        num2 = float(input(\"Enter the second number: \"))\n",
    "    except ValueError:\n",
    "        print(\"Invalid input. Please enter a valid number.\")\n",
    "        return\n",
    "\n",
    "    # Prompt the user to input the operation\n",
    "    operation = input(\"Enter the operation (add, subtract, multiply, divide): \").strip().lower()\n",
    "\n",
    "    # Perform the calculation based on the chosen operation\n",
    "    if operation == 'add':\n",
    "        result = num1 + num2\n",
    "        print(f\"The result of adding {num1} and {num2} is {result}.\")\n",
    "    elif operation == 'subtract':\n",
    "        result = num1 - num2\n",
    "        print(f\"The result of subtracting {num2} from {num1} is {result}.\")\n",
    "    elif operation == 'multiply':\n",
    "        result = num1 * num2\n",
    "        print(f\"The result of multiplying {num1} and {num2} is {result}.\")\n",
    "    elif operation == 'divide':\n",
    "        if num2 != 0:\n",
    "            result = num1 / num2\n",
    "            print(f\"The result of dividing {num1} by {num2} is {result}.\")\n",
    "        else:\n",
    "            print(\"Error: Division by zero is not allowed.\")\n",
    "    else:\n",
    "        print(\"Invalid operation. Please choose from add, subtract, multiply, or divide.\")\n",
    "\n",
    "# Call the calculator function\n",
    "calculator()\n"
   ]
  },
  {
   "cell_type": "code",
   "execution_count": null,
   "id": "948b763a-a1b1-4a1f-b9ad-96361070cfa6",
   "metadata": {},
   "outputs": [],
   "source": []
  }
 ],
 "metadata": {
  "kernelspec": {
   "display_name": "Python 3 (ipykernel)",
   "language": "python",
   "name": "python3"
  },
  "language_info": {
   "codemirror_mode": {
    "name": "ipython",
    "version": 3
   },
   "file_extension": ".py",
   "mimetype": "text/x-python",
   "name": "python",
   "nbconvert_exporter": "python",
   "pygments_lexer": "ipython3",
   "version": "3.11.5"
  }
 },
 "nbformat": 4,
 "nbformat_minor": 5
}
